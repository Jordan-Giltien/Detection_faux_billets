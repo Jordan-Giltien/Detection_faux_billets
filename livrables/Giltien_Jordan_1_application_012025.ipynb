{
 "cells": [
  {
   "cell_type": "code",
   "execution_count": 1,
   "id": "5767b76f-2fe7-439f-8bd8-99b823790595",
   "metadata": {},
   "outputs": [],
   "source": [
    "#Importation des librairies\n",
    "import pandas as pd\n",
    "import numpy as np\n",
    "from sklearn.model_selection import train_test_split\n",
    "from sklearn.linear_model import LogisticRegression"
   ]
  },
  {
   "cell_type": "code",
   "execution_count": 2,
   "id": "bc2342c0-4ed3-423f-a2d4-b2844b551843",
   "metadata": {},
   "outputs": [],
   "source": [
    "#Ne pas afficher les alertes\n",
    "import warnings\n",
    "warnings.simplefilter(\"ignore\")"
   ]
  },
  {
   "cell_type": "code",
   "execution_count": 3,
   "id": "1919e94f-e1cf-407d-8a49-51050c1e6ddf",
   "metadata": {},
   "outputs": [],
   "source": [
    "#Instruction permettant d'afficher toutes les colonnes d'un dataframe\n",
    "pd.set_option('display.max_columns', None)"
   ]
  },
  {
   "cell_type": "markdown",
   "id": "e8965008-bb95-433b-b180-d040fab514e4",
   "metadata": {},
   "source": [
    "<div style=\"border: 1px solid RGB(40,165,165);\" >\n",
    "<h3 style=\"margin: auto; padding: 20px; color: RGB(40,165,165); \">Création de l'algorithme avec la Régression logistique</h3>\n",
    "</div>"
   ]
  },
  {
   "cell_type": "code",
   "execution_count": 4,
   "id": "a1f6620c-4bf7-4044-b148-b71ee173015d",
   "metadata": {},
   "outputs": [],
   "source": [
    "df_billets = pd.read_csv(\"billets.csv\", sep=\";\")\n",
    "df_billets_drop = df_billets.dropna(subset=[\"margin_low\"])"
   ]
  },
  {
   "cell_type": "code",
   "execution_count": 5,
   "id": "ae67ae58-1759-4883-a755-260c94a2c59d",
   "metadata": {},
   "outputs": [
    {
     "data": {
      "text/html": [
       "<div>\n",
       "<style scoped>\n",
       "    .dataframe tbody tr th:only-of-type {\n",
       "        vertical-align: middle;\n",
       "    }\n",
       "\n",
       "    .dataframe tbody tr th {\n",
       "        vertical-align: top;\n",
       "    }\n",
       "\n",
       "    .dataframe thead th {\n",
       "        text-align: right;\n",
       "    }\n",
       "</style>\n",
       "<table border=\"1\" class=\"dataframe\">\n",
       "  <thead>\n",
       "    <tr style=\"text-align: right;\">\n",
       "      <th></th>\n",
       "      <th>is_genuine</th>\n",
       "      <th>diagonal</th>\n",
       "      <th>height_left</th>\n",
       "      <th>height_right</th>\n",
       "      <th>margin_low</th>\n",
       "      <th>margin_up</th>\n",
       "      <th>length</th>\n",
       "    </tr>\n",
       "  </thead>\n",
       "  <tbody>\n",
       "    <tr>\n",
       "      <th>0</th>\n",
       "      <td>1</td>\n",
       "      <td>171.81</td>\n",
       "      <td>104.86</td>\n",
       "      <td>104.95</td>\n",
       "      <td>4.52</td>\n",
       "      <td>2.89</td>\n",
       "      <td>112.83</td>\n",
       "    </tr>\n",
       "    <tr>\n",
       "      <th>1</th>\n",
       "      <td>1</td>\n",
       "      <td>171.46</td>\n",
       "      <td>103.36</td>\n",
       "      <td>103.66</td>\n",
       "      <td>3.77</td>\n",
       "      <td>2.99</td>\n",
       "      <td>113.09</td>\n",
       "    </tr>\n",
       "    <tr>\n",
       "      <th>2</th>\n",
       "      <td>1</td>\n",
       "      <td>172.69</td>\n",
       "      <td>104.48</td>\n",
       "      <td>103.50</td>\n",
       "      <td>4.40</td>\n",
       "      <td>2.94</td>\n",
       "      <td>113.16</td>\n",
       "    </tr>\n",
       "    <tr>\n",
       "      <th>3</th>\n",
       "      <td>1</td>\n",
       "      <td>171.36</td>\n",
       "      <td>103.91</td>\n",
       "      <td>103.94</td>\n",
       "      <td>3.62</td>\n",
       "      <td>3.01</td>\n",
       "      <td>113.51</td>\n",
       "    </tr>\n",
       "    <tr>\n",
       "      <th>4</th>\n",
       "      <td>1</td>\n",
       "      <td>171.73</td>\n",
       "      <td>104.28</td>\n",
       "      <td>103.46</td>\n",
       "      <td>4.04</td>\n",
       "      <td>3.48</td>\n",
       "      <td>112.54</td>\n",
       "    </tr>\n",
       "  </tbody>\n",
       "</table>\n",
       "</div>"
      ],
      "text/plain": [
       "   is_genuine  diagonal  height_left  height_right  margin_low  margin_up  \\\n",
       "0           1    171.81       104.86        104.95        4.52       2.89   \n",
       "1           1    171.46       103.36        103.66        3.77       2.99   \n",
       "2           1    172.69       104.48        103.50        4.40       2.94   \n",
       "3           1    171.36       103.91        103.94        3.62       3.01   \n",
       "4           1    171.73       104.28        103.46        4.04       3.48   \n",
       "\n",
       "   length  \n",
       "0  112.83  \n",
       "1  113.09  \n",
       "2  113.16  \n",
       "3  113.51  \n",
       "4  112.54  "
      ]
     },
     "execution_count": 5,
     "metadata": {},
     "output_type": "execute_result"
    }
   ],
   "source": [
    "# Je transforme les données True/False en 1 et 0 :\n",
    "df_billets_drop_rlc = df_billets_drop.copy()\n",
    "df_billets_drop_rlc['is_genuine'] = df_billets_drop_rlc['is_genuine'].replace({True: 1, False: 0})\n",
    "df_billets_drop_rlc.head()"
   ]
  },
  {
   "cell_type": "code",
   "execution_count": 6,
   "id": "66bd290d-0c82-45b3-b574-98ef6f8d1327",
   "metadata": {},
   "outputs": [],
   "source": [
    "# # Définition des caractéristiques (X) et de la cible (y)\n",
    "X_rlc = df_billets_drop_rlc[[\"diagonal\",\"height_left\",\"height_right\",\"margin_low\",\"margin_up\",\"length\"]] # Toutes les colonnes sauf 'is_genuine'\n",
    "y_rlc = df_billets_drop_rlc['is_genuine'] # La colonne 'is_genuine'\n",
    "X_rlc_train, X_rlc_test, y_rlc_train, y_rlc_test = train_test_split(X_rlc, y_rlc, test_size=0.20, random_state=42)\n",
    "# initialisation et entraînement de la Régression logistique classique\n",
    "clf_rlc = LogisticRegression(random_state=42).fit(X_rlc_train, y_rlc_train)"
   ]
  },
  {
   "cell_type": "code",
   "execution_count": 7,
   "id": "6cbcb410-bb22-46b6-a783-f87d4fcdb580",
   "metadata": {},
   "outputs": [],
   "source": [
    "# Fonction : \n",
    "def predict_billets_proba(model, input_dataframe):\n",
    "    # Préparez les données\n",
    "    dimensions_billet = input_dataframe[['diagonal','height_left','height_right','margin_low', 'margin_up','length']]\n",
    "\n",
    "    # Utilisez le modèle de régression logistique pour faire des prédictions\n",
    "    predicted_is_genuine = model.predict(dimensions_billet)\n",
    "    predicted_proba = model.predict_proba(dimensions_billet)[:, 1]\n",
    "\n",
    "    # Ajoutez les prédictions et les probabilités au DataFrame initial\n",
    "    input_dataframe['predicted_is_genuine'] = predicted_is_genuine\n",
    "    input_dataframe['predicted_proba'] = predicted_proba\n",
    "    \n",
    "    return input_dataframe"
   ]
  },
  {
   "cell_type": "code",
   "execution_count": 8,
   "id": "c8efcc03-5117-4d60-b1d9-7aa08cc26180",
   "metadata": {},
   "outputs": [],
   "source": [
    "# Import du fichier à traiter\n",
    "data = pd.read_csv(\"billets_test.csv\")"
   ]
  },
  {
   "cell_type": "code",
   "execution_count": 9,
   "id": "569729bf-d6ed-4698-9bb1-b20f4fa49d6e",
   "metadata": {},
   "outputs": [],
   "source": [
    "# Test sur le fichier billets_production\n",
    "# Utilisation la fonction de la Régression logistique classique avec le DataFrame à traiter\n",
    "predicted_billets = predict_billets_proba(clf_rlc, data)"
   ]
  },
  {
   "cell_type": "code",
   "execution_count": 10,
   "id": "d991e153-56b6-47b9-9bad-0a7bbf3f8ac7",
   "metadata": {},
   "outputs": [
    {
     "data": {
      "text/html": [
       "<div>\n",
       "<style scoped>\n",
       "    .dataframe tbody tr th:only-of-type {\n",
       "        vertical-align: middle;\n",
       "    }\n",
       "\n",
       "    .dataframe tbody tr th {\n",
       "        vertical-align: top;\n",
       "    }\n",
       "\n",
       "    .dataframe thead th {\n",
       "        text-align: right;\n",
       "    }\n",
       "</style>\n",
       "<table border=\"1\" class=\"dataframe\">\n",
       "  <thead>\n",
       "    <tr style=\"text-align: right;\">\n",
       "      <th></th>\n",
       "      <th>diagonal</th>\n",
       "      <th>height_left</th>\n",
       "      <th>height_right</th>\n",
       "      <th>margin_low</th>\n",
       "      <th>margin_up</th>\n",
       "      <th>length</th>\n",
       "      <th>id</th>\n",
       "      <th>predicted_is_genuine</th>\n",
       "      <th>predicted_proba</th>\n",
       "    </tr>\n",
       "  </thead>\n",
       "  <tbody>\n",
       "    <tr>\n",
       "      <th>0</th>\n",
       "      <td>172.09</td>\n",
       "      <td>103.95</td>\n",
       "      <td>103.73</td>\n",
       "      <td>4.39</td>\n",
       "      <td>3.09</td>\n",
       "      <td>113.19</td>\n",
       "      <td>B_1</td>\n",
       "      <td>True</td>\n",
       "      <td>0.987502</td>\n",
       "    </tr>\n",
       "    <tr>\n",
       "      <th>1</th>\n",
       "      <td>171.52</td>\n",
       "      <td>104.17</td>\n",
       "      <td>104.03</td>\n",
       "      <td>5.27</td>\n",
       "      <td>3.16</td>\n",
       "      <td>111.82</td>\n",
       "      <td>B_2</td>\n",
       "      <td>False</td>\n",
       "      <td>0.008237</td>\n",
       "    </tr>\n",
       "    <tr>\n",
       "      <th>2</th>\n",
       "      <td>171.78</td>\n",
       "      <td>103.80</td>\n",
       "      <td>103.75</td>\n",
       "      <td>3.81</td>\n",
       "      <td>3.24</td>\n",
       "      <td>113.39</td>\n",
       "      <td>B_3</td>\n",
       "      <td>True</td>\n",
       "      <td>0.998939</td>\n",
       "    </tr>\n",
       "    <tr>\n",
       "      <th>3</th>\n",
       "      <td>172.02</td>\n",
       "      <td>104.08</td>\n",
       "      <td>103.99</td>\n",
       "      <td>5.57</td>\n",
       "      <td>3.30</td>\n",
       "      <td>111.10</td>\n",
       "      <td>B_4</td>\n",
       "      <td>False</td>\n",
       "      <td>0.000151</td>\n",
       "    </tr>\n",
       "    <tr>\n",
       "      <th>4</th>\n",
       "      <td>171.79</td>\n",
       "      <td>104.34</td>\n",
       "      <td>104.37</td>\n",
       "      <td>5.00</td>\n",
       "      <td>3.07</td>\n",
       "      <td>111.87</td>\n",
       "      <td>B_5</td>\n",
       "      <td>False</td>\n",
       "      <td>0.012558</td>\n",
       "    </tr>\n",
       "  </tbody>\n",
       "</table>\n",
       "</div>"
      ],
      "text/plain": [
       "   diagonal  height_left  height_right  margin_low  margin_up  length   id  \\\n",
       "0    172.09       103.95        103.73        4.39       3.09  113.19  B_1   \n",
       "1    171.52       104.17        104.03        5.27       3.16  111.82  B_2   \n",
       "2    171.78       103.80        103.75        3.81       3.24  113.39  B_3   \n",
       "3    172.02       104.08        103.99        5.57       3.30  111.10  B_4   \n",
       "4    171.79       104.34        104.37        5.00       3.07  111.87  B_5   \n",
       "\n",
       "   predicted_is_genuine  predicted_proba  \n",
       "0                  True         0.987502  \n",
       "1                 False         0.008237  \n",
       "2                  True         0.998939  \n",
       "3                 False         0.000151  \n",
       "4                 False         0.012558  "
      ]
     },
     "execution_count": 10,
     "metadata": {},
     "output_type": "execute_result"
    }
   ],
   "source": [
    "predicted_billets['predicted_is_genuine'] = predicted_billets['predicted_is_genuine'].replace({1: True, 0: False})\n",
    "predicted_billets.head(30)"
   ]
  },
  {
   "cell_type": "code",
   "execution_count": 11,
   "id": "87043d81-9817-4e09-9914-e738964f88a3",
   "metadata": {},
   "outputs": [],
   "source": [
    "# Export en CSV \n",
    "predicted_billets.to_csv(\"result_prod_billets.csv\", sep=';', index=False)"
   ]
  },
  {
   "cell_type": "code",
   "execution_count": null,
   "id": "cdf3f8ee-ab68-4972-bf43-20f31adf5d81",
   "metadata": {},
   "outputs": [],
   "source": []
  },
  {
   "cell_type": "code",
   "execution_count": null,
   "id": "74adb687-b926-4354-9f07-22290dca6e8e",
   "metadata": {},
   "outputs": [],
   "source": []
  },
  {
   "cell_type": "code",
   "execution_count": null,
   "id": "596e7933-71ab-4caf-9095-ce0462ae7a3b",
   "metadata": {},
   "outputs": [],
   "source": []
  },
  {
   "cell_type": "code",
   "execution_count": null,
   "id": "449a0de1-3196-4c13-b46f-4bf1ce0183dd",
   "metadata": {},
   "outputs": [],
   "source": []
  },
  {
   "cell_type": "code",
   "execution_count": null,
   "id": "6f7671f4-ff5b-45fc-87c9-914d33bd328e",
   "metadata": {},
   "outputs": [],
   "source": []
  },
  {
   "cell_type": "code",
   "execution_count": null,
   "id": "76e5a265-2516-47e4-a61b-17a4072ea6ee",
   "metadata": {},
   "outputs": [],
   "source": []
  }
 ],
 "metadata": {
  "kernelspec": {
   "display_name": "Python 3 (ipykernel)",
   "language": "python",
   "name": "python3"
  },
  "language_info": {
   "codemirror_mode": {
    "name": "ipython",
    "version": 3
   },
   "file_extension": ".py",
   "mimetype": "text/x-python",
   "name": "python",
   "nbconvert_exporter": "python",
   "pygments_lexer": "ipython3",
   "version": "3.11.7"
  }
 },
 "nbformat": 4,
 "nbformat_minor": 5
}
